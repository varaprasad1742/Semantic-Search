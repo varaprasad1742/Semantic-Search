{
 "cells": [
  {
   "cell_type": "code",
   "execution_count": null,
   "metadata": {},
   "outputs": [],
   "source": [
    "# !pip install qdrant-client -q"
   ]
  },
  {
   "cell_type": "code",
   "execution_count": 1,
   "metadata": {},
   "outputs": [],
   "source": [
    "from qdrant_client import QdrantClient,models\n",
    "import os\n",
    "import pandas as pd\n",
    "import numpy as np\n",
    "client = QdrantClient(\n",
    "    \"https://b705e7ce-d268-4e54-96a2-0e98cf033bf2.us-east4-0.gcp.cloud.qdrant.io\",\n",
    "    api_key=os.getenv(\"QDRANT_API\"),\n",
    ")\n"
   ]
  },
  {
   "cell_type": "code",
   "execution_count": 2,
   "metadata": {},
   "outputs": [],
   "source": [
    "# !pip install sentence-transformers\n"
   ]
  },
  {
   "cell_type": "code",
   "execution_count": 3,
   "metadata": {},
   "outputs": [
    {
     "data": {
      "text/html": [
       "<div>\n",
       "<style scoped>\n",
       "    .dataframe tbody tr th:only-of-type {\n",
       "        vertical-align: middle;\n",
       "    }\n",
       "\n",
       "    .dataframe tbody tr th {\n",
       "        vertical-align: top;\n",
       "    }\n",
       "\n",
       "    .dataframe thead th {\n",
       "        text-align: right;\n",
       "    }\n",
       "</style>\n",
       "<table border=\"1\" class=\"dataframe\">\n",
       "  <thead>\n",
       "    <tr style=\"text-align: right;\">\n",
       "      <th></th>\n",
       "      <th>titles</th>\n",
       "      <th>descriptions</th>\n",
       "      <th>genres</th>\n",
       "      <th>links</th>\n",
       "    </tr>\n",
       "  </thead>\n",
       "  <tbody>\n",
       "    <tr>\n",
       "      <th>0</th>\n",
       "      <td>Thereafter of an Exiled Magician ~Somehow My E...</td>\n",
       "      <td>Lain, a reincarnated person, lives his life as...</td>\n",
       "      <td>['Action', 'Adventure', 'Ecchi', 'Fantasy', 'H...</td>\n",
       "      <td>https://www.novelupdates.com/series/thereafter...</td>\n",
       "    </tr>\n",
       "    <tr>\n",
       "      <th>1</th>\n",
       "      <td>Mahoutsukai no Konyakusha (LN)</td>\n",
       "      <td>I who was reincarnated into a world of sword a...</td>\n",
       "      <td>['Action', 'Drama', 'Fantasy', 'Harem', 'Matur...</td>\n",
       "      <td>https://www.novelupdates.com/series/mahoutsuka...</td>\n",
       "    </tr>\n",
       "    <tr>\n",
       "      <th>2</th>\n",
       "      <td>Exiled Prince Without Skills: Infinite Growth ...</td>\n",
       "      <td>Henry, born in a royal family without skills, ...</td>\n",
       "      <td>['Action', 'Adventure', 'Fantasy', 'Horror', '...</td>\n",
       "      <td>https://www.novelupdates.com/series/exiled-pri...</td>\n",
       "    </tr>\n",
       "    <tr>\n",
       "      <th>3</th>\n",
       "      <td>Reincarnation Of The Strongest Sword God</td>\n",
       "      <td>Starting over once more, he has entered this “...</td>\n",
       "      <td>['Action', 'Fantasy', 'Martial Arts', 'School ...</td>\n",
       "      <td>https://www.novelupdates.com/series/reincarnat...</td>\n",
       "    </tr>\n",
       "    <tr>\n",
       "      <th>4</th>\n",
       "      <td>Hard Work Will Never Betray Me (LN)</td>\n",
       "      <td>A youth whose effort wasn’t rewarded lost his ...</td>\n",
       "      <td>['Action', 'Adventure', 'Fantasy']</td>\n",
       "      <td>https://www.novelupdates.com/series/hard-work-...</td>\n",
       "    </tr>\n",
       "  </tbody>\n",
       "</table>\n",
       "</div>"
      ],
      "text/plain": [
       "                                              titles  \\\n",
       "0  Thereafter of an Exiled Magician ~Somehow My E...   \n",
       "1                     Mahoutsukai no Konyakusha (LN)   \n",
       "2  Exiled Prince Without Skills: Infinite Growth ...   \n",
       "3           Reincarnation Of The Strongest Sword God   \n",
       "4                Hard Work Will Never Betray Me (LN)   \n",
       "\n",
       "                                        descriptions  \\\n",
       "0  Lain, a reincarnated person, lives his life as...   \n",
       "1  I who was reincarnated into a world of sword a...   \n",
       "2  Henry, born in a royal family without skills, ...   \n",
       "3  Starting over once more, he has entered this “...   \n",
       "4  A youth whose effort wasn’t rewarded lost his ...   \n",
       "\n",
       "                                              genres  \\\n",
       "0  ['Action', 'Adventure', 'Ecchi', 'Fantasy', 'H...   \n",
       "1  ['Action', 'Drama', 'Fantasy', 'Harem', 'Matur...   \n",
       "2  ['Action', 'Adventure', 'Fantasy', 'Horror', '...   \n",
       "3  ['Action', 'Fantasy', 'Martial Arts', 'School ...   \n",
       "4                 ['Action', 'Adventure', 'Fantasy']   \n",
       "\n",
       "                                               links  \n",
       "0  https://www.novelupdates.com/series/thereafter...  \n",
       "1  https://www.novelupdates.com/series/mahoutsuka...  \n",
       "2  https://www.novelupdates.com/series/exiled-pri...  \n",
       "3  https://www.novelupdates.com/series/reincarnat...  \n",
       "4  https://www.novelupdates.com/series/hard-work-...  "
      ]
     },
     "execution_count": 3,
     "metadata": {},
     "output_type": "execute_result"
    }
   ],
   "source": [
    "data = pd.read_csv(\"./light-novel-titles.csv\")\n",
    "data.head()"
   ]
  },
  {
   "cell_type": "code",
   "execution_count": 4,
   "metadata": {},
   "outputs": [
    {
     "data": {
      "text/plain": [
       "titles          0\n",
       "descriptions    0\n",
       "genres          0\n",
       "links           0\n",
       "dtype: int64"
      ]
     },
     "execution_count": 4,
     "metadata": {},
     "output_type": "execute_result"
    }
   ],
   "source": [
    "data.isna().sum()"
   ]
  },
  {
   "cell_type": "code",
   "execution_count": 5,
   "metadata": {},
   "outputs": [
    {
     "data": {
      "text/plain": [
       "(1366, 4)"
      ]
     },
     "execution_count": 5,
     "metadata": {},
     "output_type": "execute_result"
    }
   ],
   "source": [
    "data.shape"
   ]
  },
  {
   "cell_type": "code",
   "execution_count": 6,
   "metadata": {},
   "outputs": [
    {
     "name": "stderr",
     "output_type": "stream",
     "text": [
      "/home/varaprasad/miniconda3/envs/llama/lib/python3.10/site-packages/tqdm/auto.py:21: TqdmWarning: IProgress not found. Please update jupyter and ipywidgets. See https://ipywidgets.readthedocs.io/en/stable/user_install.html\n",
      "  from .autonotebook import tqdm as notebook_tqdm\n",
      "/home/varaprasad/miniconda3/envs/llama/lib/python3.10/site-packages/huggingface_hub/file_download.py:1132: FutureWarning: `resume_download` is deprecated and will be removed in version 1.0.0. Downloads always resume when possible. If you want to force a new download, use `force_download=True`.\n",
      "  warnings.warn(\n",
      "/home/varaprasad/miniconda3/envs/llama/lib/python3.10/site-packages/torch/cuda/__init__.py:118: UserWarning: CUDA initialization: CUDA unknown error - this may be due to an incorrectly set up environment, e.g. changing env variable CUDA_VISIBLE_DEVICES after program start. Setting the available devices to be zero. (Triggered internally at ../c10/cuda/CUDAFunctions.cpp:108.)\n",
      "  return torch._C._cuda_getDeviceCount() > 0\n"
     ]
    }
   ],
   "source": [
    "from sentence_transformers import SentenceTransformer\n",
    "encoder = SentenceTransformer(\"all-MiniLM-L6-v2\")"
   ]
  },
  {
   "cell_type": "code",
   "execution_count": null,
   "metadata": {},
   "outputs": [],
   "source": [
    "collection = client.create_collection(collection_name=\"anime\",vectors_config=models.VectorParams(\n",
    "    size=encoder.get_sentence_embedding_dimension(),\n",
    "    distance=models.Distance.COSINE))"
   ]
  },
  {
   "cell_type": "code",
   "execution_count": null,
   "metadata": {},
   "outputs": [],
   "source": [
    "points=[models.PointStruct(id=idx,vector=encoder.encode(des[1]).tolist(),payload={\"title\":des[0],\"description\":des[1],\"Genres\":des[2],\"Link\":des[3]}) for idx,des in enumerate(data.values)]"
   ]
  },
  {
   "cell_type": "code",
   "execution_count": null,
   "metadata": {},
   "outputs": [],
   "source": [
    "count=0"
   ]
  },
  {
   "cell_type": "code",
   "execution_count": null,
   "metadata": {},
   "outputs": [],
   "source": [
    "# inserting data into Qdrant\n",
    "# uploading 5 points at a time\n",
    "# run this cell several times to upload all the data \n",
    "# loop is also not working so I tried this way \n",
    "# Ohh! I remembered there is time module,which can be used to run code after certain period, I can use it\n",
    "import time\n",
    "from tqdm import tqdm\n",
    "for i in tqdm(range(235,1366,5)):\n",
    "    client.upload_points(collection_name=\"anime\",points=points[i:i+5])\n",
    "    time.sleep(10)"
   ]
  },
  {
   "cell_type": "code",
   "execution_count": null,
   "metadata": {},
   "outputs": [],
   "source": [
    "# Uploaded 321 points"
   ]
  },
  {
   "cell_type": "code",
   "execution_count": 94,
   "metadata": {},
   "outputs": [],
   "source": [
    "# searching for similar anime\n",
    "query = \"ninja fighting\"\n",
    "query_vector = encoder.encode(query).tolist()\n",
    "hits = client.search(collection_name=\"anime\", query_vector=query_vector, limit=5)\n"
   ]
  },
  {
   "cell_type": "code",
   "execution_count": 96,
   "metadata": {},
   "outputs": [
    {
     "name": "stdout",
     "output_type": "stream",
     "text": [
      "Kono Sekai ga Game da to, Ore dake ga Shitte Iru (WN) score: 0.3846035\n",
      "My Status as an Assassin Obviously Exceeds the Hero’s score: 0.37036106\n",
      "Overkill Princess score: 0.34252304\n",
      "Sign-in Marvel score: 0.3302602\n",
      "Fairy Tale Chronicles score: 0.3204572\n"
     ]
    }
   ],
   "source": [
    "for hit in hits:\n",
    "    print(hit.payload[\"title\"],\"score:\",hit.score)"
   ]
  },
  {
   "cell_type": "code",
   "execution_count": null,
   "metadata": {},
   "outputs": [],
   "source": []
  }
 ],
 "metadata": {
  "kernelspec": {
   "display_name": "llama",
   "language": "python",
   "name": "python3"
  },
  "language_info": {
   "codemirror_mode": {
    "name": "ipython",
    "version": 3
   },
   "file_extension": ".py",
   "mimetype": "text/x-python",
   "name": "python",
   "nbconvert_exporter": "python",
   "pygments_lexer": "ipython3",
   "version": "3.10.14"
  }
 },
 "nbformat": 4,
 "nbformat_minor": 2
}
